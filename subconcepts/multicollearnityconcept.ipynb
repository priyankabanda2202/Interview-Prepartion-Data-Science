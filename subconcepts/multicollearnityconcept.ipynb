{
 "cells": [
  {
   "cell_type": "code",
   "execution_count": null,
   "metadata": {},
   "outputs": [],
   "source": [
    "Multicollinearity In linear regression\n",
    "\n",
    "import pandas as pd\n",
    "import statsmodels.api as sm\n",
    "df_adv=pd.read_csv('data/Advertising.csv',index_col=0)\n",
    "X=df_adv['TV','radio','newspaper']\n",
    "y=df_adv['sales']\n",
    "df_adv.head()"
   ]
  }
 ],
 "metadata": {
  "language_info": {
   "name": "python"
  }
 },
 "nbformat": 4,
 "nbformat_minor": 2
}
